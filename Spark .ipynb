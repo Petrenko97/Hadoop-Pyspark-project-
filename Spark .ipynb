{
 "cells": [
  {
   "cell_type": "code",
   "execution_count": 1,
   "id": "a0986221",
   "metadata": {},
   "outputs": [
    {
     "name": "stdout",
     "output_type": "stream",
     "text": [
      "Requirement already satisfied: pyspark in c:\\users\\user\\anaconda3\\lib\\site-packages (3.1.2)\n",
      "Requirement already satisfied: py4j==0.10.9 in c:\\users\\user\\anaconda3\\lib\\site-packages (from pyspark) (0.10.9)\n",
      "Requirement already satisfied: findspark in c:\\users\\user\\anaconda3\\lib\\site-packages (2.0.1)\n"
     ]
    }
   ],
   "source": [
    "!pip install pyspark\n",
    "!pip install findspark"
   ]
  },
  {
   "cell_type": "code",
   "execution_count": 2,
   "id": "8303f09d",
   "metadata": {},
   "outputs": [],
   "source": [
    "import findspark\n",
    "findspark.init()"
   ]
  },
  {
   "cell_type": "code",
   "execution_count": 3,
   "id": "227ca467",
   "metadata": {},
   "outputs": [],
   "source": [
    "import pyspark\n",
    "from pyspark.sql import *\n",
    "from pyspark.sql.types import *\n",
    "from pyspark import SparkContext, SparkConf\n",
    "from pyspark.sql import *\n",
    "from pyspark.sql.functions import udf\n",
    "from pyspark.sql.types import *\n",
    "from pyspark.sql.functions import col\n",
    "spark = SparkSession.builder.appName(\"zillow\").getOrCreate()\n",
    "path=\"C:/Users/User/OneDrive - aueb.gr/Επιφάνεια εργασίας/Msc/Large scale data managment/zillow.csv\" \n",
    "df = spark.read.option(\"header\",True) \\\n",
    "     .csv(path)"
   ]
  },
  {
   "cell_type": "code",
   "execution_count": 4,
   "id": "b84b3825",
   "metadata": {},
   "outputs": [
    {
     "name": "stdout",
     "output_type": "stream",
     "text": [
      "root\n",
      " |-- title: string (nullable = true)\n",
      " |-- address: string (nullable = true)\n",
      " |-- city: string (nullable = true)\n",
      " |-- state: string (nullable = true)\n",
      " |-- postal_code: string (nullable = true)\n",
      " |-- price: string (nullable = true)\n",
      " |-- facts and features: string (nullable = true)\n",
      " |-- real estate provider: string (nullable = true)\n",
      " |-- url: string (nullable = true)\n",
      "\n"
     ]
    }
   ],
   "source": [
    "df.printSchema()"
   ]
  },
  {
   "cell_type": "code",
   "execution_count": 5,
   "id": "6d8061ad",
   "metadata": {},
   "outputs": [],
   "source": [
    "df=df.select(col(\"title\"),col(\"address\"),col(\"city\"),col(\"state\"),col(\"postal_code\"),col(\"price\"),col(\"facts and features\").alias(\"fnfs\"), \\\n",
    "         col(\"real estate provider\").alias(\"real_estate_provider\"),col(\"url\"))"
   ]
  },
  {
   "cell_type": "code",
   "execution_count": 6,
   "id": "d3c48c23",
   "metadata": {},
   "outputs": [
    {
     "name": "stdout",
     "output_type": "stream",
     "text": [
      "+--------------+-------+------------+-----+-----------+----------+--------------------+--------------------+--------------------+\n",
      "|         title|address|        city|state|postal_code|     price|                fnfs|real_estate_provider|                 url|\n",
      "+--------------+-------+------------+-----+-----------+----------+--------------------+--------------------+--------------------+\n",
      "|Condo for sale|   null|  Somerville|   MA|      02145|  $342,000|2 bds, 1.0 ba ,70...|William Raveis R....|https://www.zillo...|\n",
      "|Condo for sale|   null|      Boston|   MA|      02116|$1,700,000|2 bds, 2.0 ba ,12...|Century 21 North ...|https://www.zillo...|\n",
      "|Condo for sale|   null|      Boston|   MA|      02118|  $336,500|1 bds, 1.0 ba ,10...|Maloney Propertie...|https://www.zillo...|\n",
      "|House for sale|   null|      Boston|   MA|      02118|$9,950,000|4 bds, 7.0 ba ,68...|Campion & Company...|https://www.zillo...|\n",
      "|Condo for sale|   null|      Boston|   MA|      02128|  $479,000|2 bds, 3.0 ba ,10...|Berkshire Hathawa...|https://www.zillo...|\n",
      "|House for sale|   null| East Boston|   MA|      02128|  $899,000|3 bds, 3.0 ba ,23...|Berkshire Hathawa...|https://www.zillo...|\n",
      "|Condo for sale|   null|  Somerville|   MA|      02145|  $397,300|2 bds, 1.0 ba ,78...|William Raveis R....|https://www.zillo...|\n",
      "|Condo for sale|   null|South Boston|   MA|      02127|  $619,900|2 bds, 1.0 ba ,85...|Bento Real Estate...|https://www.zillo...|\n",
      "|Condo for sale|   null|      Boston|   MA|      02116|  $850,000|1 bds, 1.0 ba ,67...|Engel & Volkers B...|https://www.zillo...|\n",
      "|Condo for sale|   null|      Boston|   MA|      02114|  $649,900|2 bds, 1.0 ba ,51...|Leading Edge Real...|https://www.zillo...|\n",
      "|Condo for sale|   null|      Boston|   MA|      02114|  $625,000|2 bds, 2.0 ba ,10...|Keller Williams R...|https://www.zillo...|\n",
      "|Condo for sale|   null|  Somerville|   MA|      02143|   $80,000|0 bds, None ba ,1...|The Greene Realty...|https://www.zillo...|\n",
      "|Condo for sale|   null|      Boston|   MA|      02116|$1,425,000|3 bds, 2.0 ba ,10...|        Redfin Corp.|https://www.zillo...|\n",
      "|Condo for sale|   null|      Boston|   MA|      02128|  $199,000|2 bds, 1.0 ba ,62...| Perlera Real Estate|https://www.zillo...|\n",
      "|House for sale|   null|      Boston|   MA|      02113|$1,200,000|2 bds, 1.0 ba ,11...|       CL Properties|https://www.zillo...|\n",
      "|Condo for sale|   null|South Boston|   MA|      02127|  $499,950|1 bds, 1.0 ba ,50...|      One Way Realty|https://www.zillo...|\n",
      "|Condo for sale|   null| Charlestown|   MA|      02129|  $739,000|2 bds, 2.0 ba ,93...|             Compass|https://www.zillo...|\n",
      "|House for sale|   null|      Boston|   MA|      02129|$1,119,000|3 bds, 4.0 ba ,16...|All Star Realty, ...|https://www.zillo...|\n",
      "|House for sale|   null|South Boston|   MA|      02127|$1,699,000|4 bds, 3.0 ba ,20...|             Compass|https://www.zillo...|\n",
      "|House for sale|   null|      Boston|   MA|      02128|  $589,000|2 bds, 2.0 ba ,12...|Gibson Sotheby's ...|https://www.zillo...|\n",
      "+--------------+-------+------------+-----+-----------+----------+--------------------+--------------------+--------------------+\n",
      "only showing top 20 rows\n",
      "\n"
     ]
    }
   ],
   "source": [
    "df.show()"
   ]
  },
  {
   "cell_type": "markdown",
   "id": "ee64a57f",
   "metadata": {},
   "source": [
    "Finding number of beds:"
   ]
  },
  {
   "cell_type": "code",
   "execution_count": 7,
   "id": "e234011c",
   "metadata": {},
   "outputs": [
    {
     "name": "stdout",
     "output_type": "stream",
     "text": [
      "+--------+\n",
      "|num_beds|\n",
      "+--------+\n",
      "|2       |\n",
      "|2       |\n",
      "|1       |\n",
      "|4       |\n",
      "|2       |\n",
      "|3       |\n",
      "|2       |\n",
      "|2       |\n",
      "|1       |\n",
      "|2       |\n",
      "|2       |\n",
      "|0       |\n",
      "|3       |\n",
      "|2       |\n",
      "|2       |\n",
      "|1       |\n",
      "|2       |\n",
      "|3       |\n",
      "|4       |\n",
      "|2       |\n",
      "+--------+\n",
      "only showing top 20 rows\n",
      "\n"
     ]
    }
   ],
   "source": [
    "def all_beds(st):\n",
    "    return ('0' if st.split()[0]=='None' else st.split()[0])\n",
    "\n",
    "convertUDF_all_beds= udf(lambda z: all_beds(z),StringType()) \n",
    "spark.udf.register(\"convertUDF_all_beds\",all_beds,StringType())\n",
    "df.createOrReplaceTempView(\"zillow\")\n",
    "spark.sql(\"select convertUDF_all_beds(fnfs) as num_beds from zillow\") \\\n",
    "     .show(truncate=False)"
   ]
  },
  {
   "cell_type": "markdown",
   "id": "8132e550",
   "metadata": {},
   "source": [
    "Finding number of baths:"
   ]
  },
  {
   "cell_type": "code",
   "execution_count": 8,
   "id": "e730d144",
   "metadata": {},
   "outputs": [
    {
     "name": "stdout",
     "output_type": "stream",
     "text": [
      "+---------+\n",
      "|num_baths|\n",
      "+---------+\n",
      "|1.0      |\n",
      "|2.0      |\n",
      "|1.0      |\n",
      "|7.0      |\n",
      "|3.0      |\n",
      "|3.0      |\n",
      "|1.0      |\n",
      "|1.0      |\n",
      "|1.0      |\n",
      "|1.0      |\n",
      "|2.0      |\n",
      "|0.0      |\n",
      "|2.0      |\n",
      "|1.0      |\n",
      "|1.0      |\n",
      "|1.0      |\n",
      "|2.0      |\n",
      "|4.0      |\n",
      "|3.0      |\n",
      "|2.0      |\n",
      "+---------+\n",
      "only showing top 20 rows\n",
      "\n"
     ]
    }
   ],
   "source": [
    "def all_baths(st):\n",
    "    return (float('0' if st.split()[2]=='None' else st.split()[2]))\n",
    "\n",
    "convertUDF_all_baths= udf(lambda z: all_baths(z),StringType()) \n",
    "spark.udf.register(\"convertUDF_all_baths\",all_baths,StringType())\n",
    "df.createOrReplaceTempView(\"zillow\")\n",
    "spark.sql(\"select convertUDF_all_baths(fnfs) as num_baths from zillow\") \\\n",
    "     .show(truncate=False)"
   ]
  },
  {
   "cell_type": "markdown",
   "id": "9baa28f0",
   "metadata": {},
   "source": [
    "Finding sqft:"
   ]
  },
  {
   "cell_type": "code",
   "execution_count": 9,
   "id": "7f58f5ac",
   "metadata": {},
   "outputs": [
    {
     "name": "stdout",
     "output_type": "stream",
     "text": [
      "+---------+\n",
      "|num_sqfts|\n",
      "+---------+\n",
      "|705.0    |\n",
      "|1228.0   |\n",
      "|1000.0   |\n",
      "|6836.0   |\n",
      "|1000.0   |\n",
      "|2313.0   |\n",
      "|780.0    |\n",
      "|856.0    |\n",
      "|675.0    |\n",
      "|511.0    |\n",
      "|1099.0   |\n",
      "|126.0    |\n",
      "|1070.0   |\n",
      "|624.0    |\n",
      "|1165.0   |\n",
      "|500.0    |\n",
      "|932.0    |\n",
      "|1680.0   |\n",
      "|2043.0   |\n",
      "|1200.0   |\n",
      "+---------+\n",
      "only showing top 20 rows\n",
      "\n"
     ]
    }
   ],
   "source": [
    "def sqfts(st):\n",
    "    return (float('0' if st.split()[4][1:len(st.split()[4])]=='None' else st.split()[4][1:len(st.split()[4])]))\n",
    "\n",
    "convertUDF_sqfts= udf(lambda z: sqfts(z),StringType()) \n",
    "spark.udf.register(\"convertUDF_sqfts\",sqfts,StringType())\n",
    "df.createOrReplaceTempView(\"zillow\")\n",
    "spark.sql(\"select convertUDF_sqfts(fnfs) as num_sqfts from zillow\") \\\n",
    "     .show(truncate=False)"
   ]
  },
  {
   "cell_type": "markdown",
   "id": "8eda22a5",
   "metadata": {},
   "source": [
    "Extracting type:"
   ]
  },
  {
   "cell_type": "code",
   "execution_count": 10,
   "id": "5312ff36",
   "metadata": {},
   "outputs": [
    {
     "name": "stdout",
     "output_type": "stream",
     "text": [
      "+-----+\n",
      "|types|\n",
      "+-----+\n",
      "|Condo|\n",
      "|Condo|\n",
      "|Condo|\n",
      "|House|\n",
      "|Condo|\n",
      "|House|\n",
      "|Condo|\n",
      "|Condo|\n",
      "|Condo|\n",
      "|Condo|\n",
      "|Condo|\n",
      "|Condo|\n",
      "|Condo|\n",
      "|Condo|\n",
      "|House|\n",
      "|Condo|\n",
      "|Condo|\n",
      "|House|\n",
      "|House|\n",
      "|House|\n",
      "+-----+\n",
      "only showing top 20 rows\n",
      "\n"
     ]
    }
   ],
   "source": [
    "def types(st): \n",
    "    return st.split()[0]\n",
    "\n",
    "convertUDF_types= udf(lambda z: types(z),StringType()) \n",
    "spark.udf.register(\"convertUDF_types\",types,StringType())\n",
    "df.createOrReplaceTempView(\"zillow\")\n",
    "spark.sql(\"select convertUDF_types(title) as types from zillow\") \\\n",
    "     .show(truncate=False)"
   ]
  },
  {
   "cell_type": "markdown",
   "id": "989f481f",
   "metadata": {},
   "source": [
    "Offers:"
   ]
  },
  {
   "cell_type": "code",
   "execution_count": 11,
   "id": "d8c47b9c",
   "metadata": {},
   "outputs": [
    {
     "name": "stdout",
     "output_type": "stream",
     "text": [
      "+------+\n",
      "|offers|\n",
      "+------+\n",
      "|sale  |\n",
      "|sale  |\n",
      "|sale  |\n",
      "|sale  |\n",
      "|sale  |\n",
      "|sale  |\n",
      "|sale  |\n",
      "|sale  |\n",
      "|sale  |\n",
      "|sale  |\n",
      "|sale  |\n",
      "|sale  |\n",
      "|sale  |\n",
      "|sale  |\n",
      "|sale  |\n",
      "|sale  |\n",
      "|sale  |\n",
      "|sale  |\n",
      "|sale  |\n",
      "|sale  |\n",
      "+------+\n",
      "only showing top 20 rows\n",
      "\n"
     ]
    }
   ],
   "source": [
    "def offers(st):    \n",
    "    a=st.split()\n",
    "    a = [w.replace(',', '') for w in a]\n",
    "    for j in range(len(a)):\n",
    "        if a[j]==\"sale\":\n",
    "            return(\"sale\")\n",
    "            break\n",
    "        elif a[j]==\"rent\":\n",
    "            return(\"rent\")\n",
    "            \n",
    "        elif a[j]==\"sold\":\n",
    "            return(\"sold\")\n",
    "            break\n",
    "            \n",
    "        elif a[j]==\"forclose\":\n",
    "            return(\"forclose\")\n",
    "            break\n",
    "        else:\n",
    "            return(\"sale\")\n",
    "            break\n",
    "            \n",
    "convertUDF_offers= udf(lambda z: offers(z),StringType()) \n",
    "spark.udf.register(\"convertUDF_offers\",offers,StringType())\n",
    "df.createOrReplaceTempView(\"zillow\")\n",
    "spark.sql(\"select convertUDF_offers(title) as offers from zillow\") \\\n",
    "     .show(truncate=False)            "
   ]
  },
  {
   "cell_type": "markdown",
   "id": "1c6f5102",
   "metadata": {},
   "source": [
    "Filter not sales:\n"
   ]
  },
  {
   "cell_type": "code",
   "execution_count": 12,
   "id": "afa73f97",
   "metadata": {},
   "outputs": [
    {
     "name": "stdout",
     "output_type": "stream",
     "text": [
      "+------------------------+----------+------------+\n",
      "|convertUDF_offers(title)|price     |offers      |\n",
      "+------------------------+----------+------------+\n",
      "|sale                    |$342,000  |Somerville  |\n",
      "|sale                    |$1,700,000|Boston      |\n",
      "|sale                    |$336,500  |Boston      |\n",
      "|sale                    |$9,950,000|Boston      |\n",
      "|sale                    |$479,000  |Boston      |\n",
      "|sale                    |$899,000  |East Boston |\n",
      "|sale                    |$397,300  |Somerville  |\n",
      "|sale                    |$619,900  |South Boston|\n",
      "|sale                    |$850,000  |Boston      |\n",
      "|sale                    |$649,900  |Boston      |\n",
      "|sale                    |$625,000  |Boston      |\n",
      "|sale                    |$80,000   |Somerville  |\n",
      "|sale                    |$1,425,000|Boston      |\n",
      "|sale                    |$199,000  |Boston      |\n",
      "|sale                    |$1,200,000|Boston      |\n",
      "|sale                    |$499,950  |South Boston|\n",
      "|sale                    |$739,000  |Charlestown |\n",
      "|sale                    |$1,119,000|Boston      |\n",
      "|sale                    |$1,699,000|South Boston|\n",
      "|sale                    |$589,000  |Boston      |\n",
      "+------------------------+----------+------------+\n",
      "only showing top 20 rows\n",
      "\n"
     ]
    }
   ],
   "source": [
    "spark.sql(\"select convertUDF_offers(title),price,city as offers from zillow where convertUDF_offers(title) like '%sale%'\")\\\n",
    ".show(truncate=False)"
   ]
  },
  {
   "cell_type": "code",
   "execution_count": 13,
   "id": "f666ff2d",
   "metadata": {},
   "outputs": [
    {
     "name": "stdout",
     "output_type": "stream",
     "text": [
      "+-------+\n",
      "|prices |\n",
      "+-------+\n",
      "|342000 |\n",
      "|1700000|\n",
      "|336500 |\n",
      "|9950000|\n",
      "|479000 |\n",
      "|899000 |\n",
      "|397300 |\n",
      "|619900 |\n",
      "|850000 |\n",
      "|649900 |\n",
      "|625000 |\n",
      "|80000  |\n",
      "|1425000|\n",
      "|199000 |\n",
      "|1200000|\n",
      "|499950 |\n",
      "|739000 |\n",
      "|1119000|\n",
      "|1699000|\n",
      "|589000 |\n",
      "+-------+\n",
      "only showing top 20 rows\n",
      "\n"
     ]
    }
   ],
   "source": [
    "def prices(st):\n",
    "    st=st.replace(',', '')\n",
    "    st=st.replace('+', '')\n",
    "    st=st.replace('$', '') \n",
    "    return(int(st))\n",
    "\n",
    "convertUDF_prices= udf(lambda z: prices(z),StringType()) \n",
    "spark.udf.register(\"convertUDF_prices\",prices,StringType())\n",
    "df.createOrReplaceTempView(\"zillow\")\n",
    "spark.sql(\"select convertUDF_prices(price) as prices from zillow\") \\\n",
    "     .show(truncate=False)            "
   ]
  },
  {
   "cell_type": "markdown",
   "id": "8234fae1",
   "metadata": {},
   "source": [
    "Filter out >10 number of beds:"
   ]
  },
  {
   "cell_type": "code",
   "execution_count": 14,
   "id": "f113040b",
   "metadata": {},
   "outputs": [
    {
     "name": "stdout",
     "output_type": "stream",
     "text": [
      "+------------+-----------+--------+\n",
      "|city        |clear_price|beds_num|\n",
      "+------------+-----------+--------+\n",
      "|Somerville  |342000     |2       |\n",
      "|Boston      |1700000    |2       |\n",
      "|Boston      |336500     |1       |\n",
      "|Boston      |9950000    |4       |\n",
      "|Boston      |479000     |2       |\n",
      "|East Boston |899000     |3       |\n",
      "|Somerville  |397300     |2       |\n",
      "|South Boston|619900     |2       |\n",
      "|Boston      |850000     |1       |\n",
      "|Boston      |649900     |2       |\n",
      "|Boston      |625000     |2       |\n",
      "|Somerville  |80000      |0       |\n",
      "|Boston      |1425000    |3       |\n",
      "|Boston      |199000     |2       |\n",
      "|Boston      |1200000    |2       |\n",
      "|South Boston|499950     |1       |\n",
      "|Charlestown |739000     |2       |\n",
      "|Boston      |1119000    |3       |\n",
      "|South Boston|1699000    |4       |\n",
      "|Boston      |589000     |2       |\n",
      "+------------+-----------+--------+\n",
      "only showing top 20 rows\n",
      "\n"
     ]
    }
   ],
   "source": [
    "spark.sql(\"select city,convertUDF_prices(price) as clear_price,convertUDF_all_beds(fnfs) as beds_num from zillow where convertUDF_all_beds(fnfs)<11 \") \\\n",
    "     .show(truncate=False)"
   ]
  },
  {
   "cell_type": "markdown",
   "id": "9d1669d8",
   "metadata": {},
   "source": [
    "Price boundaries filtering:"
   ]
  },
  {
   "cell_type": "code",
   "execution_count": 15,
   "id": "2464dc87",
   "metadata": {},
   "outputs": [
    {
     "name": "stdout",
     "output_type": "stream",
     "text": [
      "+------------+-----------+--------+\n",
      "|city        |clear_price|beds_num|\n",
      "+------------+-----------+--------+\n",
      "|Somerville  |342000     |2       |\n",
      "|Boston      |1700000    |2       |\n",
      "|Boston      |336500     |1       |\n",
      "|Boston      |9950000    |4       |\n",
      "|Boston      |479000     |2       |\n",
      "|East Boston |899000     |3       |\n",
      "|Somerville  |397300     |2       |\n",
      "|South Boston|619900     |2       |\n",
      "|Boston      |850000     |1       |\n",
      "|Boston      |649900     |2       |\n",
      "|Boston      |625000     |2       |\n",
      "|Boston      |1425000    |3       |\n",
      "|Boston      |199000     |2       |\n",
      "|Boston      |1200000    |2       |\n",
      "|South Boston|499950     |1       |\n",
      "|Charlestown |739000     |2       |\n",
      "|Boston      |1119000    |3       |\n",
      "|South Boston|1699000    |4       |\n",
      "|Boston      |589000     |2       |\n",
      "|Boston      |919000     |2       |\n",
      "+------------+-----------+--------+\n",
      "only showing top 20 rows\n",
      "\n"
     ]
    }
   ],
   "source": [
    "spark.sql(\"select city,convertUDF_prices(price) as clear_price,convertUDF_all_beds(fnfs) as beds_num from zillow where convertUDF_prices(price) between 100000 and 20000000 \") \\\n",
    "     .show(truncate=False)"
   ]
  },
  {
   "cell_type": "markdown",
   "id": "388a8ef9",
   "metadata": {},
   "source": [
    "Filter out listings that are not houses:"
   ]
  },
  {
   "cell_type": "code",
   "execution_count": 16,
   "id": "9a302288",
   "metadata": {},
   "outputs": [
    {
     "name": "stdout",
     "output_type": "stream",
     "text": [
      "+------------+-----------+--------------+\n",
      "|city        |clear_price|title         |\n",
      "+------------+-----------+--------------+\n",
      "|Boston      |9950000    |House for sale|\n",
      "|East Boston |899000     |House for sale|\n",
      "|Boston      |1200000    |House for sale|\n",
      "|Boston      |1119000    |House for sale|\n",
      "|South Boston|1699000    |House for sale|\n",
      "|Boston      |589000     |House for sale|\n",
      "|Boston      |9750000    |House for sale|\n",
      "|Somerville  |2075000    |House for sale|\n",
      "|Boston      |3200000    |House for sale|\n",
      "|South Boston|1175000    |House for sale|\n",
      "|South Boston|1250000    |House for sale|\n",
      "|Boston      |9950000    |House for sale|\n",
      "|East Boston |899000     |House for sale|\n",
      "|Boston      |1200000    |House for sale|\n",
      "|Boston      |1119000    |House for sale|\n",
      "|South Boston|1699000    |House for sale|\n",
      "|Boston      |9750000    |House for sale|\n",
      "|Somerville  |2075000    |House for sale|\n",
      "|Boston      |3200000    |House for sale|\n",
      "|South Boston|1175000    |House for sale|\n",
      "+------------+-----------+--------------+\n",
      "only showing top 20 rows\n",
      "\n"
     ]
    }
   ],
   "source": [
    "spark.sql(\"select city,convertUDF_prices(price) as clear_price,title from zillow where title like '%house%' or title like '%House%'\") \\\n",
    "     .show(truncate=False)"
   ]
  },
  {
   "cell_type": "markdown",
   "id": "2f3f47d9",
   "metadata": {},
   "source": [
    "Calculate average price per sqft for houses for sale grouping them by the number of bedrooms.:"
   ]
  },
  {
   "cell_type": "code",
   "execution_count": 17,
   "id": "37243ef3",
   "metadata": {},
   "outputs": [
    {
     "name": "stdout",
     "output_type": "stream",
     "text": [
      "+--------------+----------------------+\n",
      "|Number_of_Beds|average_price_per_sqft|\n",
      "+--------------+----------------------+\n",
      "|7             |1126.0252348993286    |\n",
      "|11            |433.6545589325427     |\n",
      "|3             |678.9521125584432     |\n",
      "|8             |1567.647058823529     |\n",
      "|0             |1250.0                |\n",
      "|5             |908.8325677804119     |\n",
      "|6             |422.3111656297147     |\n",
      "|9             |1108.1412183984849    |\n",
      "|4             |909.1473996440552     |\n",
      "|2             |716.0381965996941     |\n",
      "+--------------+----------------------+\n",
      "\n"
     ]
    }
   ],
   "source": [
    "spark.sql(\"select convertUDF_all_beds(fnfs) as Number_of_Beds , avg(convertUDF_prices(price)/convertUDF_sqfts(fnfs)) as average_price_per_sqft  from zillow where title like '%House for sale%'  group by convertUDF_all_beds(fnfs)\") \\\n",
    "     .show(truncate=False)"
   ]
  }
 ],
 "metadata": {
  "kernelspec": {
   "display_name": "Python 3",
   "language": "python",
   "name": "python3"
  },
  "language_info": {
   "codemirror_mode": {
    "name": "ipython",
    "version": 3
   },
   "file_extension": ".py",
   "mimetype": "text/x-python",
   "name": "python",
   "nbconvert_exporter": "python",
   "pygments_lexer": "ipython3",
   "version": "3.8.8"
  }
 },
 "nbformat": 4,
 "nbformat_minor": 5
}
